{
 "cells": [
  {
   "cell_type": "code",
   "execution_count": 39,
   "metadata": {},
   "outputs": [],
   "source": [
    "import pandas as pd \n",
    "import numpy as np\n",
    "import matplotlib.pyplot as plt\n",
    "import seaborn as sns"
   ]
  },
  {
   "cell_type": "code",
   "execution_count": 40,
   "metadata": {},
   "outputs": [],
   "source": [
    "data = pd.read_csv('user_journey_raw.csv')"
   ]
  },
  {
   "cell_type": "code",
   "execution_count": 41,
   "metadata": {},
   "outputs": [
    {
     "data": {
      "text/html": [
       "<div>\n",
       "<style scoped>\n",
       "    .dataframe tbody tr th:only-of-type {\n",
       "        vertical-align: middle;\n",
       "    }\n",
       "\n",
       "    .dataframe tbody tr th {\n",
       "        vertical-align: top;\n",
       "    }\n",
       "\n",
       "    .dataframe thead th {\n",
       "        text-align: right;\n",
       "    }\n",
       "</style>\n",
       "<table border=\"1\" class=\"dataframe\">\n",
       "  <thead>\n",
       "    <tr style=\"text-align: right;\">\n",
       "      <th></th>\n",
       "      <th>user_id</th>\n",
       "      <th>session_id</th>\n",
       "      <th>subscription_type</th>\n",
       "      <th>user_journey</th>\n",
       "    </tr>\n",
       "  </thead>\n",
       "  <tbody>\n",
       "    <tr>\n",
       "      <th>0</th>\n",
       "      <td>1516</td>\n",
       "      <td>2980231</td>\n",
       "      <td>Annual</td>\n",
       "      <td>Homepage-Log in-Log in-Log in-Log in-Log in-Lo...</td>\n",
       "    </tr>\n",
       "    <tr>\n",
       "      <th>1</th>\n",
       "      <td>1516</td>\n",
       "      <td>2980248</td>\n",
       "      <td>Annual</td>\n",
       "      <td>Other-Sign up-Sign up-Sign up-Sign up-Sign up-...</td>\n",
       "    </tr>\n",
       "    <tr>\n",
       "      <th>2</th>\n",
       "      <td>1516</td>\n",
       "      <td>2992252</td>\n",
       "      <td>Annual</td>\n",
       "      <td>Log in-Log in-Log in-Log in-Log in-Log in</td>\n",
       "    </tr>\n",
       "    <tr>\n",
       "      <th>3</th>\n",
       "      <td>1516</td>\n",
       "      <td>3070491</td>\n",
       "      <td>Annual</td>\n",
       "      <td>Homepage-Log in-Log in-Log in-Log in-Log in-Lo...</td>\n",
       "    </tr>\n",
       "    <tr>\n",
       "      <th>4</th>\n",
       "      <td>1516</td>\n",
       "      <td>3709807</td>\n",
       "      <td>Annual</td>\n",
       "      <td>Log in-Log in-Log in-Log in-Log in-Log in-Log ...</td>\n",
       "    </tr>\n",
       "    <tr>\n",
       "      <th>...</th>\n",
       "      <td>...</td>\n",
       "      <td>...</td>\n",
       "      <td>...</td>\n",
       "      <td>...</td>\n",
       "    </tr>\n",
       "    <tr>\n",
       "      <th>9930</th>\n",
       "      <td>509095</td>\n",
       "      <td>4487613</td>\n",
       "      <td>Annual</td>\n",
       "      <td>Other-Other-Other-Other-Other-Other-Other-Othe...</td>\n",
       "    </tr>\n",
       "    <tr>\n",
       "      <th>9931</th>\n",
       "      <td>509095</td>\n",
       "      <td>4842565</td>\n",
       "      <td>Annual</td>\n",
       "      <td>Other-Other-Other-Other-Other-Other-Other-Othe...</td>\n",
       "    </tr>\n",
       "    <tr>\n",
       "      <th>9932</th>\n",
       "      <td>509095</td>\n",
       "      <td>4843103</td>\n",
       "      <td>Annual</td>\n",
       "      <td>Other-Other</td>\n",
       "    </tr>\n",
       "    <tr>\n",
       "      <th>9933</th>\n",
       "      <td>509095</td>\n",
       "      <td>4845316</td>\n",
       "      <td>Annual</td>\n",
       "      <td>Other-Other-Other-Other-Other-Other-Other-Othe...</td>\n",
       "    </tr>\n",
       "    <tr>\n",
       "      <th>9934</th>\n",
       "      <td>509096</td>\n",
       "      <td>4845427</td>\n",
       "      <td>Annual</td>\n",
       "      <td>Other-Other-Other-Other-Other-Other-Coupon-Cou...</td>\n",
       "    </tr>\n",
       "  </tbody>\n",
       "</table>\n",
       "<p>9935 rows × 4 columns</p>\n",
       "</div>"
      ],
      "text/plain": [
       "      user_id  session_id subscription_type  \\\n",
       "0        1516     2980231            Annual   \n",
       "1        1516     2980248            Annual   \n",
       "2        1516     2992252            Annual   \n",
       "3        1516     3070491            Annual   \n",
       "4        1516     3709807            Annual   \n",
       "...       ...         ...               ...   \n",
       "9930   509095     4487613            Annual   \n",
       "9931   509095     4842565            Annual   \n",
       "9932   509095     4843103            Annual   \n",
       "9933   509095     4845316            Annual   \n",
       "9934   509096     4845427            Annual   \n",
       "\n",
       "                                           user_journey  \n",
       "0     Homepage-Log in-Log in-Log in-Log in-Log in-Lo...  \n",
       "1     Other-Sign up-Sign up-Sign up-Sign up-Sign up-...  \n",
       "2             Log in-Log in-Log in-Log in-Log in-Log in  \n",
       "3     Homepage-Log in-Log in-Log in-Log in-Log in-Lo...  \n",
       "4     Log in-Log in-Log in-Log in-Log in-Log in-Log ...  \n",
       "...                                                 ...  \n",
       "9930  Other-Other-Other-Other-Other-Other-Other-Othe...  \n",
       "9931  Other-Other-Other-Other-Other-Other-Other-Othe...  \n",
       "9932                                        Other-Other  \n",
       "9933  Other-Other-Other-Other-Other-Other-Other-Othe...  \n",
       "9934  Other-Other-Other-Other-Other-Other-Coupon-Cou...  \n",
       "\n",
       "[9935 rows x 4 columns]"
      ]
     },
     "execution_count": 41,
     "metadata": {},
     "output_type": "execute_result"
    }
   ],
   "source": [
    "data"
   ]
  },
  {
   "cell_type": "code",
   "execution_count": 42,
   "metadata": {},
   "outputs": [
    {
     "data": {
      "text/plain": [
       "user_id              1350\n",
       "session_id           9935\n",
       "subscription_type       3\n",
       "user_journey         1841\n",
       "dtype: int64"
      ]
     },
     "execution_count": 42,
     "metadata": {},
     "output_type": "execute_result"
    }
   ],
   "source": [
    "data.nunique()"
   ]
  },
  {
   "cell_type": "code",
   "execution_count": 43,
   "metadata": {},
   "outputs": [
    {
     "name": "stdout",
     "output_type": "stream",
     "text": [
      "<class 'pandas.core.frame.DataFrame'>\n",
      "RangeIndex: 9935 entries, 0 to 9934\n",
      "Data columns (total 4 columns):\n",
      " #   Column             Non-Null Count  Dtype \n",
      "---  ------             --------------  ----- \n",
      " 0   user_id            9935 non-null   int64 \n",
      " 1   session_id         9935 non-null   int64 \n",
      " 2   subscription_type  9935 non-null   object\n",
      " 3   user_journey       9935 non-null   object\n",
      "dtypes: int64(2), object(2)\n",
      "memory usage: 310.6+ KB\n"
     ]
    }
   ],
   "source": [
    "data.info()"
   ]
  },
  {
   "cell_type": "code",
   "execution_count": 44,
   "metadata": {},
   "outputs": [
    {
     "data": {
      "text/plain": [
       "array(['Annual', 'Monthly', 'Quarterly'], dtype=object)"
      ]
     },
     "execution_count": 44,
     "metadata": {},
     "output_type": "execute_result"
    }
   ],
   "source": [
    "data['subscription_type'].unique()"
   ]
  },
  {
   "cell_type": "code",
   "execution_count": 45,
   "metadata": {},
   "outputs": [
    {
     "data": {
      "text/html": [
       "<div>\n",
       "<style scoped>\n",
       "    .dataframe tbody tr th:only-of-type {\n",
       "        vertical-align: middle;\n",
       "    }\n",
       "\n",
       "    .dataframe tbody tr th {\n",
       "        vertical-align: top;\n",
       "    }\n",
       "\n",
       "    .dataframe thead th {\n",
       "        text-align: right;\n",
       "    }\n",
       "</style>\n",
       "<table border=\"1\" class=\"dataframe\">\n",
       "  <thead>\n",
       "    <tr style=\"text-align: right;\">\n",
       "      <th></th>\n",
       "      <th>user_id</th>\n",
       "      <th>session_id</th>\n",
       "    </tr>\n",
       "  </thead>\n",
       "  <tbody>\n",
       "    <tr>\n",
       "      <th>count</th>\n",
       "      <td>9935.000000</td>\n",
       "      <td>9.935000e+03</td>\n",
       "    </tr>\n",
       "    <tr>\n",
       "      <th>mean</th>\n",
       "      <td>401709.580775</td>\n",
       "      <td>3.464916e+06</td>\n",
       "    </tr>\n",
       "    <tr>\n",
       "      <th>std</th>\n",
       "      <td>106934.401794</td>\n",
       "      <td>1.095088e+06</td>\n",
       "    </tr>\n",
       "    <tr>\n",
       "      <th>min</th>\n",
       "      <td>1516.000000</td>\n",
       "      <td>1.817000e+03</td>\n",
       "    </tr>\n",
       "    <tr>\n",
       "      <th>25%</th>\n",
       "      <td>335237.000000</td>\n",
       "      <td>3.087452e+06</td>\n",
       "    </tr>\n",
       "    <tr>\n",
       "      <th>50%</th>\n",
       "      <td>461458.000000</td>\n",
       "      <td>3.640994e+06</td>\n",
       "    </tr>\n",
       "    <tr>\n",
       "      <th>75%</th>\n",
       "      <td>470347.000000</td>\n",
       "      <td>4.247818e+06</td>\n",
       "    </tr>\n",
       "    <tr>\n",
       "      <th>max</th>\n",
       "      <td>509096.000000</td>\n",
       "      <td>4.845427e+06</td>\n",
       "    </tr>\n",
       "  </tbody>\n",
       "</table>\n",
       "</div>"
      ],
      "text/plain": [
       "             user_id    session_id\n",
       "count    9935.000000  9.935000e+03\n",
       "mean   401709.580775  3.464916e+06\n",
       "std    106934.401794  1.095088e+06\n",
       "min      1516.000000  1.817000e+03\n",
       "25%    335237.000000  3.087452e+06\n",
       "50%    461458.000000  3.640994e+06\n",
       "75%    470347.000000  4.247818e+06\n",
       "max    509096.000000  4.845427e+06"
      ]
     },
     "execution_count": 45,
     "metadata": {},
     "output_type": "execute_result"
    }
   ],
   "source": [
    "data.describe()"
   ]
  },
  {
   "cell_type": "code",
   "execution_count": 46,
   "metadata": {},
   "outputs": [],
   "source": [
    "def remove_page_duplicates(user_journey: str) -> str:\n",
    "  result = []\n",
    "  journey = user_journey.split('-')\n",
    "  result.append(journey[0])\n",
    "  for word in journey[1:]:\n",
    "    if word != result[-1]:\n",
    "      result.append(word)\n",
    "\n",
    "  return '-'.join(result)\n",
    "    "
   ]
  },
  {
   "cell_type": "code",
   "execution_count": 47,
   "metadata": {},
   "outputs": [],
   "source": [
    "def group_by(data, count_from = 'last', group_column = 'user_id', target_column='user_journey',sessions = 'All'):\n",
    "  if count_from == 'last':\n",
    "    if sessions == 'All':\n",
    "      df = data\n",
    "    else:\n",
    "      df = data.groupby(group_column).tail(sessions)\n",
    "  elif count_from == 'first':\n",
    "    if sessions == 'All':\n",
    "      df = data\n",
    "    else:\n",
    "      df = data.groupby(group_column).head(sessions)\n",
    "  result = df.groupby('user_id')['user_journey'].apply(list).to_dict()\n",
    "\n",
    "  data['grouped_home_pages'] = data['user_id'].map(result)\n",
    "  data['grouped_home_pages'] = data['grouped_home_pages'].map(lambda x: '-'.join(x))\n",
    "\n",
    "  return data\n",
    "\n",
    "\n"
   ]
  },
  {
   "cell_type": "code",
   "execution_count": 48,
   "metadata": {},
   "outputs": [],
   "source": [
    "def remove_pages(data, pages, target_column) -> pd.DataFrame:\n",
    "  def remove_from_line(list_pages, pages_to_remove):\n",
    "    return '-'.join([page for page in list_pages if page not in pages_to_remove])\n",
    "  \n",
    "  data[target_column] =   data[target_column].map(lambda x : remove_from_line(x.split('-'), pages))\n",
    "\n",
    "  return data"
   ]
  },
  {
   "cell_type": "code",
   "execution_count": 49,
   "metadata": {},
   "outputs": [],
   "source": [
    "result_data = group_by(data, count_from='first', group_column='user_id', target_column='user_journey', sessions=3)\n"
   ]
  },
  {
   "cell_type": "code",
   "execution_count": 12,
   "metadata": {},
   "outputs": [],
   "source": []
  },
  {
   "cell_type": "code",
   "execution_count": 50,
   "metadata": {},
   "outputs": [],
   "source": [
    "def page_counts(data, plan=None):\n",
    "  if plan:\n",
    "    data = data[data['subscription_type'] == plan]\n",
    "\n",
    "  return data['user_journey'].str.split('-').explode().value_counts()"
   ]
  },
  {
   "cell_type": "code",
   "execution_count": 51,
   "metadata": {},
   "outputs": [
    {
     "data": {
      "text/plain": [
       "Checkout                    7554\n",
       "Log in                      5811\n",
       "Sign up                     2683\n",
       "Courses                     2343\n",
       "Career tracks               1518\n",
       "Other                       1124\n",
       "Homepage                    1088\n",
       "Career track certificate     881\n",
       "Pricing                      658\n",
       "Coupon                       602\n",
       "Course certificate           389\n",
       "Resources center             382\n",
       "Success stories              213\n",
       "Upcoming courses              50\n",
       "Blog                          10\n",
       "Instructors                    8\n",
       "About us                       4\n",
       "Name: user_journey, dtype: int64"
      ]
     },
     "execution_count": 51,
     "metadata": {},
     "output_type": "execute_result"
    }
   ],
   "source": [
    "page_counts(data, 'Monthly')"
   ]
  },
  {
   "cell_type": "code",
   "execution_count": 52,
   "metadata": {},
   "outputs": [],
   "source": [
    "def page_presence(data, plan=None):\n",
    "  if plan:\n",
    "    data = data[data['subscription_type'] == plan]\n",
    "  unique_pages = data['user_journey'].str.split('-').apply(lambda x: set(x))\n",
    "  return unique_pages.explode().value_counts()"
   ]
  },
  {
   "cell_type": "code",
   "execution_count": 53,
   "metadata": {},
   "outputs": [],
   "source": [
    "result_data = data.copy()\n",
    "result_data['grouped_home_pages'] = result_data['grouped_home_pages'].map(remove_page_duplicates)"
   ]
  },
  {
   "cell_type": "code",
   "execution_count": 54,
   "metadata": {},
   "outputs": [],
   "source": [
    "def page_destination(data, plan=None):\n",
    "  if plan:\n",
    "    data = data[data['subscription_type'] == plan]\n",
    "  destinations = []\n",
    "  for journey in data['user_journey']:\n",
    "    journey = journey.split('-')\n",
    "    for i in range(len(journey) -1):\n",
    "      destinations.append((journey[i], journey[i+1]))\n",
    "  return pd.Series(destinations).value_counts()"
   ]
  },
  {
   "cell_type": "code",
   "execution_count": 55,
   "metadata": {},
   "outputs": [],
   "source": [
    "def page_sequences(data, plan=None, n=3):\n",
    "  if plan:\n",
    "      data = data[data['subscription_type'] == plan]\n",
    "  \n",
    "  destinations = []\n",
    "  \n",
    "  for journey in data['user_journey']:\n",
    "      journey = journey.split('-')\n",
    "      cup = []\n",
    "      \n",
    "      for i in range(len(journey) - n + 1):\n",
    "          s = '-'.join(journey[i:i+n])\n",
    "          if s not in cup:  # Avoid duplicates within the same journey\n",
    "              cup.append(s)\n",
    "      \n",
    "      destinations.extend(cup)  # Add unique sequences from this journey to the overall list\n",
    "  \n",
    "  return pd.Series(destinations).value_counts()  # Count occurrences of each sequence\n"
   ]
  },
  {
   "cell_type": "code",
   "execution_count": 56,
   "metadata": {},
   "outputs": [
    {
     "data": {
      "text/plain": [
       "(Pricing, Pricing)                     1168\n",
       "(Pricing, Checkout)                     286\n",
       "(Pricing, Sign up)                      128\n",
       "(Pricing, Courses)                       99\n",
       "(Pricing, Log in)                        80\n",
       "(Pricing, Career track certificate)      58\n",
       "(Pricing, Career tracks)                 53\n",
       "(Pricing, Homepage)                      49\n",
       "(Pricing, Resources center)              32\n",
       "(Pricing, Course certificate)            22\n",
       "(Pricing, Other)                         13\n",
       "(Pricing, Upcoming courses)              13\n",
       "(Pricing, Success stories)                4\n",
       "(Pricing, Blog)                           2\n",
       "(Pricing, Instructors)                    1\n",
       "dtype: int64"
      ]
     },
     "execution_count": 56,
     "metadata": {},
     "output_type": "execute_result"
    }
   ],
   "source": [
    "d = page_destination(data)\n",
    "d_pricing = d[d.index.map(lambda x: x[0] == 'Pricing')]\n",
    "d_pricing"
   ]
  },
  {
   "cell_type": "code",
   "execution_count": 57,
   "metadata": {},
   "outputs": [
    {
     "name": "stdout",
     "output_type": "stream",
     "text": [
      "Series([], Name: user_journey, dtype: int64)\n"
     ]
    }
   ],
   "source": [
    "pricing_followups = data[data['user_journey'] == 'Pricing'].shift(-1)  # Get the next page after \"Pricing\"\n",
    "followup_counts = pricing_followups['user_journey'].value_counts()\n",
    "print(followup_counts)"
   ]
  },
  {
   "cell_type": "code",
   "execution_count": 58,
   "metadata": {},
   "outputs": [],
   "source": [
    "def journey_length(data, plan=None):\n",
    "  if plan:\n",
    "      data = data[data['subscription_type'] == plan]\n",
    "  data['length'] = data['user_journey'].str.split('-').apply(len)\n",
    "\n",
    "  cal_data = data.groupby('user_id')['length'].mean()\n",
    "  return cal_data\n",
    "  "
   ]
  },
  {
   "cell_type": "code",
   "execution_count": 59,
   "metadata": {},
   "outputs": [
    {
     "name": "stderr",
     "output_type": "stream",
     "text": [
      "C:\\Users\\21268\\AppData\\Local\\Temp\\ipykernel_26996\\2457351582.py:4: SettingWithCopyWarning: \n",
      "A value is trying to be set on a copy of a slice from a DataFrame.\n",
      "Try using .loc[row_indexer,col_indexer] = value instead\n",
      "\n",
      "See the caveats in the documentation: https://pandas.pydata.org/pandas-docs/stable/user_guide/indexing.html#returning-a-view-versus-a-copy\n",
      "  data['length'] = data['user_journey'].str.split('-').apply(len)\n"
     ]
    },
    {
     "data": {
      "text/plain": [
       "10.077777777777778"
      ]
     },
     "execution_count": 59,
     "metadata": {},
     "output_type": "execute_result"
    }
   ],
   "source": [
    "data_s = data.groupby('user_id').tail(3)\n",
    "journey_length(data_s).mean()\n"
   ]
  },
  {
   "cell_type": "code",
   "execution_count": 60,
   "metadata": {},
   "outputs": [
    {
     "data": {
      "text/plain": [
       "Checkout                    1159\n",
       "Log in                       829\n",
       "Coupon                       755\n",
       "Homepage                     662\n",
       "Other                        496\n",
       "Sign up                      387\n",
       "Pricing                      266\n",
       "Courses                      228\n",
       "Career tracks                168\n",
       "Career track certificate      80\n",
       "Resources center              66\n",
       "Course certificate            45\n",
       "Upcoming courses              32\n",
       "Success stories               13\n",
       "Instructors                    9\n",
       "Blog                           5\n",
       "About us                       5\n",
       "Name: user_journey, dtype: int64"
      ]
     },
     "execution_count": 60,
     "metadata": {},
     "output_type": "execute_result"
    }
   ],
   "source": [
    "page_presence(data.groupby('user_id').tail(3))"
   ]
  },
  {
   "cell_type": "code",
   "execution_count": 72,
   "metadata": {},
   "outputs": [
    {
     "data": {
      "text/plain": [
       "Checkout-Checkout-Checkout                                                    822\n",
       "Coupon-Coupon-Coupon                                                          600\n",
       "Log in-Log in-Log in                                                          553\n",
       "Sign up-Sign up-Sign up                                                       287\n",
       "Other-Other-Other                                                             238\n",
       "Homepage-Log in-Log in                                                        216\n",
       "Courses-Courses-Courses                                                       148\n",
       "Career tracks-Career tracks-Career tracks                                     113\n",
       "Homepage-Pricing-Pricing                                                      101\n",
       "Homepage-Sign up-Sign up                                                       97\n",
       "Sign up-Log in-Log in                                                          73\n",
       "Sign up-Sign up-Log in                                                         71\n",
       "Career track certificate-Career track certificate-Career track certificate     66\n",
       "Courses-Sign up-Sign up                                                        63\n",
       "Pricing-Checkout-Checkout                                                      63\n",
       "Homepage-Courses-Courses                                                       61\n",
       "Pricing-Pricing-Checkout                                                       55\n",
       "Pricing-Pricing-Pricing                                                        54\n",
       "Homepage-Career tracks-Career tracks                                           53\n",
       "Career tracks-Sign up-Sign up                                                  44\n",
       "Courses-Courses-Sign up                                                        42\n",
       "Career tracks-Career tracks-Courses                                            40\n",
       "Career tracks-Courses-Courses                                                  39\n",
       "Courses-Career tracks-Career tracks                                            37\n",
       "Career tracks-Career tracks-Sign up                                            37\n",
       "dtype: int64"
      ]
     },
     "execution_count": 72,
     "metadata": {},
     "output_type": "execute_result"
    }
   ],
   "source": [
    "page_sequences(data.groupby('user_id').tail(3)).head(25)"
   ]
  },
  {
   "cell_type": "code",
   "execution_count": 62,
   "metadata": {},
   "outputs": [
    {
     "name": "stdout",
     "output_type": "stream",
     "text": [
      "Page Count (All Users):\n",
      "Checkout                    17896\n",
      "Log in                      17265\n",
      "Coupon                      11855\n",
      "Courses                      7149\n",
      "Sign up                      6824\n",
      "Other                        6820\n",
      "Career tracks                4910\n",
      "Homepage                     3808\n",
      "Career track certificate     3044\n",
      "Resources center             2266\n",
      "Pricing                      2262\n",
      "Course certificate           1114\n",
      "Success stories               604\n",
      "Upcoming courses              188\n",
      "Instructors                    76\n",
      "Blog                           36\n",
      "About us                       33\n",
      "Name: user_journey, dtype: int64\n",
      "\n",
      "Page Count (Monthly Users):\n",
      "Checkout                    7554\n",
      "Log in                      5811\n",
      "Sign up                     2683\n",
      "Courses                     2343\n",
      "Career tracks               1518\n",
      "Other                       1124\n",
      "Homepage                    1088\n",
      "Career track certificate     881\n",
      "Pricing                      658\n",
      "Coupon                       602\n",
      "Course certificate           389\n",
      "Resources center             382\n",
      "Success stories              213\n",
      "Upcoming courses              50\n",
      "Blog                          10\n",
      "Instructors                    8\n",
      "About us                       4\n",
      "Name: user_journey, dtype: int64\n"
     ]
    }
   ],
   "source": [
    "# Page count for all users\n",
    "print(\"Page Count (All Users):\")\n",
    "print(page_counts(data))\n",
    "\n",
    "# Page count for monthly users\n",
    "print(\"\\nPage Count (Monthly Users):\")\n",
    "print(page_counts(data, plan='Monthly'))\n",
    "\n",
    "\n"
   ]
  },
  {
   "cell_type": "code",
   "execution_count": 63,
   "metadata": {},
   "outputs": [
    {
     "name": "stdout",
     "output_type": "stream",
     "text": [
      "\n",
      "Page Presence (All Users):\n",
      "Log in                      3798\n",
      "Homepage                    2396\n",
      "Checkout                    2021\n",
      "Other                       1535\n",
      "Sign up                     1210\n",
      "Coupon                      1041\n",
      "Pricing                      929\n",
      "Courses                      908\n",
      "Career tracks                747\n",
      "Career track certificate     355\n",
      "Resources center             339\n",
      "Course certificate           191\n",
      "Upcoming courses             101\n",
      "Success stories               49\n",
      "Instructors                   26\n",
      "About us                      22\n",
      "Blog                          15\n",
      "Name: user_journey, dtype: int64\n"
     ]
    }
   ],
   "source": [
    "# Page presence for all users\n",
    "print(\"\\nPage Presence (All Users):\")\n",
    "print(page_presence(data))\n",
    "\n"
   ]
  },
  {
   "cell_type": "code",
   "execution_count": 64,
   "metadata": {},
   "outputs": [
    {
     "name": "stdout",
     "output_type": "stream",
     "text": [
      "\n",
      "Page Destination (All Users):\n",
      "(Checkout, Checkout)            15832\n",
      "(Log in, Log in)                13389\n",
      "(Coupon, Coupon)                10814\n",
      "(Courses, Courses)               5962\n",
      "(Sign up, Sign up)               5521\n",
      "                                ...  \n",
      "(Sign up, Checkout)                 1\n",
      "(Instructors, Log in)               1\n",
      "(Checkout, Sign up)                 1\n",
      "(Homepage, Checkout)                1\n",
      "(Career tracks, Instructors)        1\n",
      "Length: 192, dtype: int64\n"
     ]
    }
   ],
   "source": [
    "# Page destination for all users\n",
    "print(\"\\nPage Destination (All Users):\")\n",
    "print(page_destination(data))\n",
    "\n"
   ]
  },
  {
   "cell_type": "code",
   "execution_count": 65,
   "metadata": {},
   "outputs": [
    {
     "name": "stdout",
     "output_type": "stream",
     "text": [
      "\n",
      "Page Sequences (All Users, N=2):\n",
      "Log in-Log in                3590\n",
      "Checkout-Checkout            1891\n",
      "Other-Other                  1171\n",
      "Coupon-Coupon                1040\n",
      "Sign up-Sign up               934\n",
      "                             ... \n",
      "Instructors-Log in              1\n",
      "Success stories-Courses         1\n",
      "Sign up-Upcoming courses        1\n",
      "Checkout-Success stories        1\n",
      "Career tracks-Instructors       1\n",
      "Length: 192, dtype: int64\n"
     ]
    }
   ],
   "source": [
    "# Page sequences for all users with N=2\n",
    "print(\"\\nPage Sequences (All Users, N=2):\")\n",
    "print(page_sequences(data, n=2))\n",
    "\n"
   ]
  },
  {
   "cell_type": "code",
   "execution_count": 66,
   "metadata": {},
   "outputs": [
    {
     "name": "stdout",
     "output_type": "stream",
     "text": [
      "\n",
      "Journey Length (All Users):\n",
      "user_id\n",
      "1516       9.076923\n",
      "3395       3.600000\n",
      "10107      7.375000\n",
      "11145      4.909091\n",
      "12400      8.000000\n",
      "            ...    \n",
      "509060    11.000000\n",
      "509061    20.000000\n",
      "509085    18.000000\n",
      "509095    15.500000\n",
      "509096    16.000000\n",
      "Name: length, Length: 1350, dtype: float64\n"
     ]
    }
   ],
   "source": [
    "# Journey length for all users\n",
    "print(\"\\nJourney Length (All Users):\")\n",
    "print(journey_length(data))"
   ]
  },
  {
   "cell_type": "code",
   "execution_count": 67,
   "metadata": {},
   "outputs": [
    {
     "name": "stdout",
     "output_type": "stream",
     "text": [
      "3575\n"
     ]
    }
   ],
   "source": [
    "first_three_sessions = data.groupby('user_id').head(3)\n",
    "record_count = len(first_three_sessions)\n",
    "print(record_count)"
   ]
  },
  {
   "cell_type": "code",
   "execution_count": 68,
   "metadata": {},
   "outputs": [
    {
     "data": {
      "text/plain": [
       "Log in                      135\n",
       "Checkout                    103\n",
       "Homepage                     91\n",
       "Sign up                      64\n",
       "Other                        42\n",
       "Pricing                      28\n",
       "Courses                      25\n",
       "Career tracks                17\n",
       "Career track certificate     13\n",
       "Coupon                       13\n",
       "Course certificate            8\n",
       "Resources center              7\n",
       "Success stories               3\n",
       "Upcoming courses              3\n",
       "About us                      1\n",
       "Name: user_journey, dtype: int64"
      ]
     },
     "execution_count": 68,
     "metadata": {},
     "output_type": "execute_result"
    }
   ],
   "source": [
    "page_presence(data,'Quarterly')"
   ]
  },
  {
   "cell_type": "code",
   "execution_count": null,
   "metadata": {},
   "outputs": [],
   "source": []
  }
 ],
 "metadata": {
  "kernelspec": {
   "display_name": "Python 3",
   "language": "python",
   "name": "python3"
  },
  "language_info": {
   "codemirror_mode": {
    "name": "ipython",
    "version": 3
   },
   "file_extension": ".py",
   "mimetype": "text/x-python",
   "name": "python",
   "nbconvert_exporter": "python",
   "pygments_lexer": "ipython3",
   "version": "3.11.2"
  }
 },
 "nbformat": 4,
 "nbformat_minor": 2
}
